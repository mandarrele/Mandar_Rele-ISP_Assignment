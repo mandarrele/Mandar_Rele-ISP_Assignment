{
  "nbformat": 4,
  "nbformat_minor": 0,
  "metadata": {
    "colab": {
      "provenance": [],
      "collapsed_sections": [],
      "toc_visible": true
    },
    "kernelspec": {
      "name": "python3",
      "display_name": "Python 3"
    },
    "language_info": {
      "name": "python"
    }
  },
  "cells": [
    {
      "cell_type": "markdown",
      "source": [
        "# ISP Practicals"
      ],
      "metadata": {
        "id": "ASY6Km0TDW5B"
      }
    },
    {
      "cell_type": "code",
      "execution_count": null,
      "metadata": {
        "id": "e-cJmiPpW_kk",
        "colab": {
          "base_uri": "https://localhost:8080/"
        },
        "outputId": "a45d7449-8d4e-4d5e-f460-f773ef89b4f0"
      },
      "outputs": [
        {
          "output_type": "stream",
          "name": "stdout",
          "text": [
            "Hello World\n",
            "Hello World\n",
            "Hello World\n",
            "Hello World\n",
            "Hello World\n"
          ]
        }
      ],
      "source": [
        "for i in range(0,5):\n",
        "  print(\"Hello World\")\n",
        "  "
      ]
    },
    {
      "cell_type": "code",
      "source": [
        "for i in range(0,5):\n",
        "  print(i)\n",
        "  print(\"Hola world\")"
      ],
      "metadata": {
        "colab": {
          "base_uri": "https://localhost:8080/"
        },
        "id": "034sraDoW7Wr",
        "outputId": "b110df5a-e23f-4e80-f8e4-eeb3c50bcadd"
      },
      "execution_count": null,
      "outputs": [
        {
          "output_type": "stream",
          "name": "stdout",
          "text": [
            "0\n",
            "Hola world\n",
            "1\n",
            "Hola world\n",
            "2\n",
            "Hola world\n",
            "3\n",
            "Hola world\n",
            "4\n",
            "Hola world\n"
          ]
        }
      ]
    },
    {
      "cell_type": "code",
      "source": [
        "text = \"MBA TECH\"\n",
        "for i in range(len(text)):\n",
        "  print(text[i])\n",
        "  "
      ],
      "metadata": {
        "colab": {
          "base_uri": "https://localhost:8080/"
        },
        "id": "CxHpeQg0XknH",
        "outputId": "59749f58-c116-4ba8-c90c-f429d436a5a6"
      },
      "execution_count": null,
      "outputs": [
        {
          "output_type": "stream",
          "name": "stdout",
          "text": [
            "M\n",
            "B\n",
            "A\n",
            " \n",
            "T\n",
            "E\n",
            "C\n",
            "H\n"
          ]
        }
      ]
    },
    {
      "cell_type": "code",
      "source": [
        "def sum(arg1,arg2):\n",
        "  total = arg1 + arg2\n",
        "  print(\"Inside the function : \", total)\n",
        "  return total\n",
        "total = sum(10,5)\n",
        "print(\"Outside the function : \", total)"
      ],
      "metadata": {
        "colab": {
          "base_uri": "https://localhost:8080/"
        },
        "id": "583PDHobZ5jd",
        "outputId": "ed0d3690-442c-42dc-cfe2-1c0cd32fdef6"
      },
      "execution_count": null,
      "outputs": [
        {
          "output_type": "stream",
          "name": "stdout",
          "text": [
            "Inside the function :  15\n",
            "Outside the function :  15\n"
          ]
        }
      ]
    },
    {
      "cell_type": "markdown",
      "source": [
        "to read about caesar decrytion"
      ],
      "metadata": {
        "id": "OqKiQfi_cPzK"
      }
    },
    {
      "cell_type": "code",
      "source": [
        "text = str(input(\"enter the word : \"))\n",
        "shift = int(input(\"enter the key :\"))\n",
        "result = ''\n"
      ],
      "metadata": {
        "colab": {
          "base_uri": "https://localhost:8080/"
        },
        "id": "bprgXH2EdJyb",
        "outputId": "d5ce026f-0bbf-47c9-8713-2a08ce387927"
      },
      "execution_count": null,
      "outputs": [
        {
          "name": "stdout",
          "output_type": "stream",
          "text": [
            "enter the word : mandar\n",
            "enter the key :123\n"
          ]
        }
      ]
    },
    {
      "cell_type": "code",
      "source": [
        "# step 1 getting input\n",
        "plain_text = input(\"Enter the message: \")\n",
        "key = input(\"Enter the one time pad: \")\n",
        "cipher_text = ''"
      ],
      "metadata": {
        "colab": {
          "base_uri": "https://localhost:8080/"
        },
        "id": "6d_HgdXCm5-j",
        "outputId": "99994f2c-51d1-4d10-ae6f-7344b75a5790"
      },
      "execution_count": null,
      "outputs": [
        {
          "name": "stdout",
          "output_type": "stream",
          "text": [
            "Enter the message: Good morning\n",
            "Enter the one time pad: Quantum king\n"
          ]
        }
      ]
    },
    {
      "cell_type": "code",
      "source": [
        "#step 2 data clean : replacing space and converting to lower\n",
        "\n",
        "plain_text = plain_text.replace(\"\",\"\")\n",
        "key = key.replace(\"\",\"\")\n",
        "plain_text = plain_text.lower()\n",
        "key = key.lower()"
      ],
      "metadata": {
        "id": "O_M6gOnNniWE"
      },
      "execution_count": null,
      "outputs": []
    },
    {
      "cell_type": "code",
      "source": [
        "# checking if lengths are equal\n",
        "if(len(plain_text)!= len(key)):\n",
        "  print(\"Lengths are different \")\n",
        "else:\n",
        "  print(\"Length equal\")\n"
      ],
      "metadata": {
        "colab": {
          "base_uri": "https://localhost:8080/"
        },
        "id": "-U6Yr-kboQPD",
        "outputId": "ec708947-8cea-4bb2-8a29-b995be56a750"
      },
      "execution_count": null,
      "outputs": [
        {
          "output_type": "stream",
          "name": "stdout",
          "text": [
            "Length equal\n"
          ]
        }
      ]
    },
    {
      "cell_type": "code",
      "source": [],
      "metadata": {
        "id": "J5TF0M9phxQv"
      },
      "execution_count": null,
      "outputs": []
    },
    {
      "cell_type": "markdown",
      "source": [
        "# M1 practice\n",
        "\n",
        "\n"
      ],
      "metadata": {
        "id": "UYNmqMRnEt_U"
      }
    },
    {
      "cell_type": "markdown",
      "source": [
        "CAESAR CIPHER TECHNIQUE"
      ],
      "metadata": {
        "id": "6on-HXiL3ZVJ"
      }
    },
    {
      "cell_type": "code",
      "source": [
        "# ENCRYPTION\n",
        "def encrypt(text,s):\n",
        "  result = \"\"\n",
        "  # traverse text\n",
        "  s=s\n",
        "  print(s)\n",
        "  for i in range(len(text)):\n",
        "    char = text[i]\n",
        "\n",
        "    # Encrypt uppercase characters\n",
        "    if (char.isupper()):\n",
        "      result += chr((ord(char) + s-65) % 26 + 65)\n",
        "\n",
        "    # Encrypt lowercase characters\n",
        "    else:\n",
        "      result += chr((ord(char) + s - 97) % 26 + 97)\n",
        "    \n",
        "  return result\n",
        "\n",
        "#check the above function\n",
        "text=str(input(\"enter the word:\"))\n",
        "shift=int(input(\"Enter the key: \"))\n",
        "# print (\"Text : \" + text)\n",
        "# print (\"Shift : \" + str(s))\n",
        "print (\"Cipher: \" + encrypt(text,shift))"
      ],
      "metadata": {
        "colab": {
          "base_uri": "https://localhost:8080/",
          "height": 270
        },
        "id": "eTzJSmSb2-JY",
        "outputId": "5b1ee999-6e92-4113-a462-78b11ebf7465"
      },
      "execution_count": null,
      "outputs": [
        {
          "name": "stdout",
          "output_type": "stream",
          "text": [
            "enter the word:MANDAR\n",
            "Enter the key: RADNAM\n"
          ]
        },
        {
          "output_type": "error",
          "ename": "ValueError",
          "evalue": "ignored",
          "traceback": [
            "\u001b[0;31m---------------------------------------------------------------------------\u001b[0m",
            "\u001b[0;31mValueError\u001b[0m                                Traceback (most recent call last)",
            "\u001b[0;32m<ipython-input-1-8c194dbd97a1>\u001b[0m in \u001b[0;36m<module>\u001b[0;34m\u001b[0m\n\u001b[1;32m     20\u001b[0m \u001b[0;31m#check the above function\u001b[0m\u001b[0;34m\u001b[0m\u001b[0;34m\u001b[0m\u001b[0;34m\u001b[0m\u001b[0m\n\u001b[1;32m     21\u001b[0m \u001b[0mtext\u001b[0m\u001b[0;34m=\u001b[0m\u001b[0mstr\u001b[0m\u001b[0;34m(\u001b[0m\u001b[0minput\u001b[0m\u001b[0;34m(\u001b[0m\u001b[0;34m\"enter the word:\"\u001b[0m\u001b[0;34m)\u001b[0m\u001b[0;34m)\u001b[0m\u001b[0;34m\u001b[0m\u001b[0;34m\u001b[0m\u001b[0m\n\u001b[0;32m---> 22\u001b[0;31m \u001b[0mshift\u001b[0m\u001b[0;34m=\u001b[0m\u001b[0mint\u001b[0m\u001b[0;34m(\u001b[0m\u001b[0minput\u001b[0m\u001b[0;34m(\u001b[0m\u001b[0;34m\"Enter the key: \"\u001b[0m\u001b[0;34m)\u001b[0m\u001b[0;34m)\u001b[0m\u001b[0;34m\u001b[0m\u001b[0;34m\u001b[0m\u001b[0m\n\u001b[0m\u001b[1;32m     23\u001b[0m \u001b[0;31m# print (\"Text : \" + text)\u001b[0m\u001b[0;34m\u001b[0m\u001b[0;34m\u001b[0m\u001b[0;34m\u001b[0m\u001b[0m\n\u001b[1;32m     24\u001b[0m \u001b[0;31m# print (\"Shift : \" + str(s))\u001b[0m\u001b[0;34m\u001b[0m\u001b[0;34m\u001b[0m\u001b[0;34m\u001b[0m\u001b[0m\n",
            "\u001b[0;31mValueError\u001b[0m: invalid literal for int() with base 10: 'RADNAM'"
          ]
        }
      ]
    },
    {
      "cell_type": "code",
      "source": [
        "#DECRYPTION\n",
        "def decrypt(text,s):\n",
        "\n",
        "\n",
        "  # Cipher(n) = De-cipher(26-n)\n",
        "  s=26-s \n",
        "  print(s)    \n",
        "  result=\"\" \n",
        "  for i in range(len(text)):\n",
        "      char=text[i]\n",
        "      if(char.isupper()):  \n",
        "          result=result+chr((ord(char)+s-65)%26+65)\n",
        "      else:\n",
        "          result=result+chr((ord(char)+s-97)%26+97)\n",
        "  return result\n",
        "\n",
        "\n",
        "word=str(input(\"enter the word:\"))\n",
        "d=int(input(\"Enter the key: \"))\n",
        "\n",
        "print(\"Encoded word in Caeser cipher is: \",decrypt(word,d))"
      ],
      "metadata": {
        "id": "OK6se-MB3TEY"
      },
      "execution_count": null,
      "outputs": []
    },
    {
      "cell_type": "markdown",
      "source": [
        "VERNAM TECHNIQUE"
      ],
      "metadata": {
        "id": "56HBZTAn3of4"
      }
    },
    {
      "cell_type": "code",
      "source": [
        "# ENCRYPTION\n",
        "def encrypt_vernam(plain_text,key):\n",
        "\n",
        "    # convert into lower cases and remove spaces\n",
        "    \n",
        "    plain_text=plain_text.replace(\" \",\"\")\n",
        "    key=key.replace(\" \",\"\")\n",
        "    plain_text=plain_text.lower()\n",
        "    key=key.lower()\n",
        "    \n",
        "    # conditional statements\n",
        "    if(len(plain_text)!=len(key)):\n",
        "        print(\"Lengths are different\")\n",
        "        return print(\"Lengths are different\")\n",
        "        \n",
        "    else:\n",
        "        cipher_text=\"\"\n",
        "        # iterating through the length\n",
        "        for i in range(len(plain_text)):\n",
        "            k1=ord(plain_text[i])-97\n",
        "            k2=ord(key[i])-97\n",
        "            s=chr(((k1+k2))%26+97)\n",
        "            cipher_text+=s\n",
        "        return print(\"Enrypted message is: \",cipher_text)\n",
        "\n",
        "\n",
        "plain_text=input(\"Enter the message: \")\n",
        "key=input(\"Enter the one time pad: \")\n",
        "encrypt_vernam(plain_text,key)"
      ],
      "metadata": {
        "colab": {
          "base_uri": "https://localhost:8080/"
        },
        "id": "jwlcfbd-3suO",
        "outputId": "bdf6bc5c-15c5-469e-e8a2-e36e33dc6bea"
      },
      "execution_count": null,
      "outputs": [
        {
          "output_type": "stream",
          "name": "stdout",
          "text": [
            "Enter the message: MANDAR\n",
            "Enter the one time pad: RADNAM\n",
            "Enrypted message is:  daqqad\n"
          ]
        }
      ]
    },
    {
      "cell_type": "code",
      "source": [
        "# DECRYPTION\n",
        "def decrypt_vernam(plain_text,key):\n",
        "\n",
        "    # convert into lower cases and remove spaces\n",
        "    \n",
        "    plain_text=plain_text.replace(\" \",\"\")\n",
        "    key=key.replace(\" \",\"\")\n",
        "    plain_text=plain_text.lower()\n",
        "    key=key.lower()\n",
        "    \n",
        "    # conditional statements\n",
        "    if(len(plain_text)!=len(key)):\n",
        "        \n",
        "        return print(\"Lengths are different\")\n",
        "        \n",
        "    else:\n",
        "        cipher_text=\"\"\n",
        "        # iterating through the length\n",
        "        for i in range(len(plain_text)):\n",
        "            k1=ord(plain_text[i])-97\n",
        "            k2=ord(key[i])-97\n",
        "            s=chr(((k1-k2))%26+97)\n",
        "            cipher_text+=s\n",
        "          \n",
        "        return print(\"Enrypted message is: \",cipher_text)\n",
        "plain_text=input(\"Enter the message: \")\n",
        "key=input(\"Enter the one time pad: \")\n",
        "encrypt_vernam(plain_text,key)"
      ],
      "metadata": {
        "colab": {
          "base_uri": "https://localhost:8080/"
        },
        "id": "N5KY3Thg3zpl",
        "outputId": "42c78df7-4128-479b-ff68-e5c7cb8413d4"
      },
      "execution_count": null,
      "outputs": [
        {
          "output_type": "stream",
          "name": "stdout",
          "text": [
            "Enter the message: daqqad\n",
            "Enter the one time pad: radnam\n",
            "Enrypted message is:  uatdap\n"
          ]
        }
      ]
    }
  ]
}