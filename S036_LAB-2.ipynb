{
  "nbformat": 4,
  "nbformat_minor": 0,
  "metadata": {
    "colab": {
      "provenance": []
    },
    "kernelspec": {
      "name": "python3",
      "display_name": "Python 3"
    },
    "language_info": {
      "name": "python"
    }
  },
  "cells": [
    {
      "cell_type": "code",
      "execution_count": 5,
      "metadata": {
        "colab": {
          "base_uri": "https://localhost:8080/"
        },
        "id": "PU_z_bZokEju",
        "outputId": "1917f977-e7b0-4693-a038-bbcac4489475"
      },
      "outputs": [
        {
          "output_type": "stream",
          "name": "stdout",
          "text": [
            "ENTER THE MESSAGE: mangi ice\n",
            "Enter the one time password: icey milli\n",
            "Lengths are different.\n",
            "Encrypted message is:  ucreuqnp\n"
          ]
        }
      ],
      "source": [
        "plain_text=input(\"ENTER THE MESSAGE: \")\n",
        "key=input(\"Enter the one time password: \")\n",
        "cipher_text=''\n",
        "plain_text=plain_text.replace(\" \",\"\")\n",
        "key=key.replace(\" \",\"\")\n",
        "plain_text=plain_text.lower()\n",
        "key=key.lower()\n",
        "if(len(plain_text)!=len(key)):\n",
        "  print(\"Lengths are different.\")\n",
        "else:\n",
        "  print(\"Length equal.\")\n",
        "cipher_text=\"\"\n",
        "for i in range(len(plain_text)):\n",
        "  k1=ord(plain_text[i])-97\n",
        "  k2=ord(key[i])-97 \n",
        "  s=chr((k1+k2)%26+97)\n",
        "  cipher_text+=s\n",
        "print(\"Encrypted message is: \",cipher_text)"
      ]
    },
    {
      "cell_type": "code",
      "source": [
        "#DECRYPTION\n",
        "def ver_decryption():\n",
        "#STEP 1 GETTING INPUTS\n",
        "    plain_text=input(\"Enter the message: \")\n",
        "    key=input(\"Enter the one time pad: \")\n",
        "    cipher_text=''\n",
        "    #STEP 2 DATA CLEAN: REPLACING SPACE AND CONVERTING TO LOWER\n",
        "    plain_text=plain_text.replace(\" \",\"\")\n",
        "    key=key.replace(\" \",\"\")\n",
        "    plain_text=plain_text.lower()\n",
        "    key=key.lower()\n",
        "    #CHECKING IF THE LENGHTS ARE EQUAL\n",
        "    if(len(plain_text)!=len(key)):\n",
        "      print(\"Lenghts are different.\")\n",
        "    else:\n",
        "      print(\"Length Equal.\")\n",
        "    for i in range(len(plain_text)):\n",
        "      k1=ord(plain_text[i])+97\n",
        "      k2=ord(key[i])+97\n",
        "      s=chr(((k1-k2)+26)%26+97)\n",
        "      cipher_text+=s\n",
        "    print(\"Decrypted message is: \",cipher_text) \n",
        "ver_decryption()"
      ],
      "metadata": {
        "colab": {
          "base_uri": "https://localhost:8080/"
        },
        "id": "6abGRxH_kouG",
        "outputId": "d6d5aeb7-4f62-410c-e9dc-8b092f34bd3f"
      },
      "execution_count": 2,
      "outputs": [
        {
          "output_type": "stream",
          "name": "stdout",
          "text": [
            "Enter the message: jogeshwari\n",
            "Enter the one time pad: sanjay gandhi\n",
            "Lenghts are different.\n",
            "Decrypted message is:  rotvsjqaef\n"
          ]
        }
      ]
    },
    {
      "cell_type": "markdown",
      "source": [
        "# New section"
      ],
      "metadata": {
        "id": "n-Rgcxa7lWmN"
      }
    }
  ]
}