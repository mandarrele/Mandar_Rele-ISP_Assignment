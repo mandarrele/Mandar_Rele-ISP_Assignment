{
  "nbformat": 4,
  "nbformat_minor": 0,
  "metadata": {
    "colab": {
      "provenance": []
    },
    "kernelspec": {
      "name": "python3",
      "display_name": "Python 3"
    },
    "language_info": {
      "name": "python"
    }
  },
  "cells": [
    {
      "cell_type": "code",
      "execution_count": null,
      "metadata": {
        "colab": {
          "base_uri": "https://localhost:8080/"
        },
        "id": "Wk6I4iWbonmu",
        "outputId": "e21e9972-f26c-4c99-d8d0-edcd82daf43f"
      },
      "outputs": [
        {
          "output_type": "stream",
          "name": "stdout",
          "text": [
            "Both parties agree to a single prime.\n"
          ]
        }
      ],
      "source": [
        "print(\"Both parties agree to a single prime.\")\n",
        "prime=int(input(\"Enter the prime number to be considered:\"))\n",
        "print(\"Both must agree with single primitive root to use.\")\n",
        "root=int(input(\"Enter the primitive root:\"))"
      ]
    },
    {
      "cell_type": "code",
      "source": [
        "#Party1 chooses a secret number\n",
        "alicesecret=int(input(\"Enter a secret number for Party1: \"))\n",
        "\n",
        "#Party2 chooses a secret number\n",
        "bobsecret=int(input(\"Enter a secret number for Party2: \"))\n",
        "print(\"\\n\")"
      ],
      "metadata": {
        "colab": {
          "base_uri": "https://localhost:8080/"
        },
        "id": "nzvZSkzdot64",
        "outputId": "e76a0abb-83f1-4ec0-d17c-4de46742ccda"
      },
      "execution_count": 2,
      "outputs": [
        {
          "output_type": "stream",
          "name": "stdout",
          "text": [
            "Enter a secret number for Party1: 22\n",
            "Enter a secret number for Party2: 44\n",
            "\n",
            "\n"
          ]
        }
      ]
    },
    {
      "cell_type": "code",
      "source": [
        "#Party1 public key A=(root^alicesecret)*mod(prime)\n",
        "print(\"Party1s public key -> A=root^alicesecret*mod(prime)\")\n",
        "alicepublic=(root**alicesecret)%prime\n",
        "print(\"Party1 public key is: \",alicepublic,\"\\n\")\n",
        "\n",
        "#Party2 public key B=(root^bobsecret)*mod(prime)\n",
        "print(\"Party2s public key -> B=root^bobsecret*mod(prime)\")\n",
        "bobpublic=(root**bobsecret)%prime\n",
        "print(\"Party2 public key is: \",bobpublic,\"\\n\")"
      ],
      "metadata": {
        "colab": {
          "base_uri": "https://localhost:8080/"
        },
        "id": "4pHGaYwPoxrT",
        "outputId": "ae331f78-8473-4ac6-9c23-0421c2aaca10"
      },
      "execution_count": 3,
      "outputs": [
        {
          "output_type": "stream",
          "name": "stdout",
          "text": [
            "Party1s public key -> A=root^alicesecret*mod(prime)\n",
            "Party1 public key is:  1 \n",
            "\n",
            "Party2s public key -> B=root^bobsecret*mod(prime)\n",
            "Party2 public key is:  1 \n",
            "\n"
          ]
        }
      ]
    },
    {
      "cell_type": "code",
      "source": [
        "#Party1 now calculates the shared key K:\n",
        "#K= B^(alicesecret)*mod(prime)\n",
        "print(\"Party1 calculates the shared key as K=B^alicesecret*(mod(prime))\")\n",
        "alicekey=(bobpublic**alicesecret)%prime\n",
        "print(\"Party1 calculates the shared key and results: \",alicekey,\"\\n\")"
      ],
      "metadata": {
        "colab": {
          "base_uri": "https://localhost:8080/"
        },
        "id": "Rn_L-q7Oo0_P",
        "outputId": "4893cf5c-83f0-481f-d81c-75fe22fb7156"
      },
      "execution_count": 4,
      "outputs": [
        {
          "output_type": "stream",
          "name": "stdout",
          "text": [
            "Party1 calculates the shared key as K=B^alicesecret*(mod(prime))\n",
            "Party1 calculates the shared key and results:  1 \n",
            "\n"
          ]
        }
      ]
    }
  ]
}